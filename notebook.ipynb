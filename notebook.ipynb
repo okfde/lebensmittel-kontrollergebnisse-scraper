{
 "cells": [
  {
   "cell_type": "code",
   "execution_count": 3,
   "id": "37f6dbc5",
   "metadata": {},
   "outputs": [
    {
     "name": "stdout",
     "output_type": "stream",
     "text": [
      "Requirement already satisfied: gitpython in ./.venv/lib/python3.10/site-packages (3.1.27)\n",
      "Requirement already satisfied: pandas in ./.venv/lib/python3.10/site-packages (1.4.2)\n",
      "Requirement already satisfied: matplotlib in ./.venv/lib/python3.10/site-packages (3.5.2)\n",
      "Requirement already satisfied: altair in ./.venv/lib/python3.10/site-packages (4.2.0)\n",
      "Requirement already satisfied: gitdb<5,>=4.0.1 in ./.venv/lib/python3.10/site-packages (from gitpython) (4.0.9)\n",
      "Requirement already satisfied: numpy>=1.21.0 in ./.venv/lib/python3.10/site-packages (from pandas) (1.22.4)\n",
      "Requirement already satisfied: pytz>=2020.1 in ./.venv/lib/python3.10/site-packages (from pandas) (2022.1)\n",
      "Requirement already satisfied: python-dateutil>=2.8.1 in ./.venv/lib/python3.10/site-packages (from pandas) (2.8.2)\n",
      "Requirement already satisfied: pyparsing>=2.2.1 in ./.venv/lib/python3.10/site-packages (from matplotlib) (3.0.9)\n",
      "Requirement already satisfied: cycler>=0.10 in ./.venv/lib/python3.10/site-packages (from matplotlib) (0.11.0)\n",
      "Requirement already satisfied: packaging>=20.0 in ./.venv/lib/python3.10/site-packages (from matplotlib) (21.3)\n",
      "Requirement already satisfied: pillow>=6.2.0 in ./.venv/lib/python3.10/site-packages (from matplotlib) (9.1.1)\n",
      "Requirement already satisfied: kiwisolver>=1.0.1 in ./.venv/lib/python3.10/site-packages (from matplotlib) (1.4.2)\n",
      "Requirement already satisfied: fonttools>=4.22.0 in ./.venv/lib/python3.10/site-packages (from matplotlib) (4.33.3)\n",
      "Requirement already satisfied: toolz in ./.venv/lib/python3.10/site-packages (from altair) (0.11.2)\n",
      "Requirement already satisfied: entrypoints in ./.venv/lib/python3.10/site-packages (from altair) (0.4)\n",
      "Requirement already satisfied: jsonschema>=3.0 in ./.venv/lib/python3.10/site-packages (from altair) (4.5.1)\n",
      "Requirement already satisfied: jinja2 in ./.venv/lib/python3.10/site-packages (from altair) (3.1.2)\n",
      "Requirement already satisfied: smmap<6,>=3.0.1 in ./.venv/lib/python3.10/site-packages (from gitdb<5,>=4.0.1->gitpython) (5.0.0)\n",
      "Requirement already satisfied: pyrsistent!=0.17.0,!=0.17.1,!=0.17.2,>=0.14.0 in ./.venv/lib/python3.10/site-packages (from jsonschema>=3.0->altair) (0.18.1)\n",
      "Requirement already satisfied: attrs>=17.4.0 in ./.venv/lib/python3.10/site-packages (from jsonschema>=3.0->altair) (21.4.0)\n",
      "Requirement already satisfied: six>=1.5 in ./.venv/lib/python3.10/site-packages (from python-dateutil>=2.8.1->pandas) (1.16.0)\n",
      "Requirement already satisfied: MarkupSafe>=2.0 in ./.venv/lib/python3.10/site-packages (from jinja2->altair) (2.1.1)\n",
      "\u001b[33mWARNING: You are using pip version 22.0.4; however, version 22.1.2 is available.\n",
      "You should consider upgrading via the '/home/max/Dokumente/Projects/fds-pankow/.venv/bin/python -m pip install --upgrade pip' command.\u001b[0m\u001b[33m\n",
      "\u001b[0m"
     ]
    }
   ],
   "source": [
    "!python -m pip install gitpython pandas matplotlib altair"
   ]
  },
  {
   "cell_type": "code",
   "execution_count": 4,
   "id": "92f3b747",
   "metadata": {},
   "outputs": [],
   "source": [
    "import git\n",
    "from glob import glob\n",
    "import json\n",
    "import pandas as pd\n",
    "from collections import defaultdict"
   ]
  },
  {
   "cell_type": "markdown",
   "id": "d0902412",
   "metadata": {},
   "source": [
    "## Data overview\n",
    "\n",
    "- Around 1,000 businesses were checked since scraping started.\n",
    "- There are ~1,400 data points recorded\n",
    "- 50%"
   ]
  },
  {
   "cell_type": "code",
   "execution_count": 5,
   "id": "2de2c489",
   "metadata": {},
   "outputs": [
    {
     "name": "stdout",
     "output_type": "stream",
     "text": [
      "981\n"
     ]
    }
   ],
   "source": [
    "root_dir = \"results\"\n",
    "repo = git.Repo(root_dir)\n",
    "\n",
    "tree = repo.heads.master.commit.tree\n",
    "\n",
    "paths = glob(\"pankow/*/*.json\", root_dir=root_dir)\n",
    "print(len(paths))"
   ]
  },
  {
   "cell_type": "code",
   "execution_count": 6,
   "id": "c8ed8769",
   "metadata": {},
   "outputs": [],
   "source": [
    "changes = {}\n",
    "for path in paths:\n",
    "  changes[str(path)] = 0\n",
    "\n",
    "  revlist = (\n",
    "      (commit, (commit.tree / path).data_stream.read())\n",
    "      for commit in repo.iter_commits(paths=path)\n",
    "  )\n",
    "\n",
    "  for commit, filecontents in revlist:\n",
    "      changes[str(path)] += 1"
   ]
  },
  {
   "cell_type": "code",
   "execution_count": 7,
   "id": "3b11c78b",
   "metadata": {},
   "outputs": [
    {
     "name": "stdout",
     "output_type": "stream",
     "text": [
      "count    981.000000\n",
      "mean       1.433231\n",
      "std        0.717761\n",
      "min        1.000000\n",
      "25%        1.000000\n",
      "50%        1.000000\n",
      "75%        2.000000\n",
      "max        6.000000\n",
      "dtype: float64\n",
      "all checks 1406\n"
     ]
    }
   ],
   "source": [
    "df = pd.Series(dict.values(changes))\n",
    "print(df.describe())\n",
    "print(\"all checks\", df.sum())"
   ]
  },
  {
   "cell_type": "code",
   "execution_count": 8,
   "id": "4220513e",
   "metadata": {},
   "outputs": [
    {
     "name": "stdout",
     "output_type": "stream",
     "text": [
      "no. of businesses that were changed only once:  653\n",
      "percentage:  0.6656472986748216\n"
     ]
    }
   ],
   "source": [
    "print(\"no. of businesses that were changed only once: \", df[df == 1].count())\n",
    "print(\"percentage: \", df[df == 1].count() / df.count()) "
   ]
  },
  {
   "cell_type": "code",
   "execution_count": 9,
   "id": "9019f636",
   "metadata": {},
   "outputs": [
    {
     "name": "stdout",
     "output_type": "stream",
     "text": [
      "{1, 2, 3, 4, 5, 6}\n",
      "these were changed >=5 times:\n",
      "pankow/66CED98AA4347EA9E0536884190AB2B4/66CED98AA4347EA9E0536884190AB2B4.json\n",
      "pankow/8AA3AF280F323AD9E0536884190A162D/8AA3AF280F323AD9E0536884190A162D.json\n",
      "pankow/A73BFA02A79A46B1AC76D5F2779F59FC/A73BFA02A79A46B1AC76D5F2779F59FC.json\n",
      "pankow/F0232313B29A42768802B5A2A7FD395C/F0232313B29A42768802B5A2A7FD395C.json\n",
      "pankow/593546B77E5D6398E0536884190A25D5/593546B77E5D6398E0536884190A25D5.json\n",
      "pankow/7CDABEED7B9B49699C477FEF5E0A6B46/7CDABEED7B9B49699C477FEF5E0A6B46.json\n"
     ]
    }
   ],
   "source": [
    "print(set(dict.values(changes)))\n",
    "\n",
    "print(\"these were changed >=5 times:\")\n",
    "for path, n in dict.items(changes):\n",
    "  if n >= 5:\n",
    "    print(path)"
   ]
  },
  {
   "cell_type": "markdown",
   "id": "3fc38dea",
   "metadata": {},
   "source": [
    "## Helper functions"
   ]
  },
  {
   "cell_type": "code",
   "execution_count": 10,
   "id": "fc21a0d0",
   "metadata": {},
   "outputs": [],
   "source": [
    "def get_inspections():\n",
    "  for path in paths:\n",
    "    business = {}\n",
    "\n",
    "    revlist = (\n",
    "        (commit, (commit.tree / path).data_stream.read())\n",
    "        for commit in repo.iter_commits(paths=path)\n",
    "    )\n",
    "\n",
    "    for commit, filecontents in revlist:\n",
    "        data = json.loads(filecontents)\n",
    "        business[data[\"results\"][\"date\"]] = data\n",
    "    \n",
    "    for inspection in dict.values(business):\n",
    "        yield inspection\n",
    "\n",
    "inspections = list(get_inspections())"
   ]
  },
  {
   "cell_type": "markdown",
   "id": "c8c44ede",
   "metadata": {},
   "source": [
    "## Categories over time"
   ]
  },
  {
   "cell_type": "code",
   "execution_count": 11,
   "id": "1c46d45c",
   "metadata": {},
   "outputs": [
    {
     "data": {
      "text/plain": [
       "<AxesSubplot:xlabel='date'>"
      ]
     },
     "execution_count": 11,
     "metadata": {},
     "output_type": "execute_result"
    },
    {
     "data": {
      "image/png": "[encoded data removed]",
      "text/plain": [
       "<Figure size 432x288 with 1 Axes>"
      ]
     },
     "metadata": {
      "needs_background": "light"
     },
     "output_type": "display_data"
    }
   ],
   "source": [
    "categories = []\n",
    "\n",
    "for inspection in inspections:\n",
    "    categories.append(\n",
    "        {\n",
    "            \"date\": pd.Timestamp(inspection[\"results\"][\"date\"]),\n",
    "            **{\n",
    "                detail[\"property\"]: int(detail[\"achievedPoints\"]) / int(detail[\"possiblePoints\"])\n",
    "                for detail in inspection[\"details\"]\n",
    "            },\n",
    "        }\n",
    "    )\n",
    "\n",
    "df = pd.DataFrame(categories)\n",
    "df.set_index('date', inplace=True)\n",
    "# df.sort_index().head()\n",
    "df[\"Einhaltung LM-rechtlicher Bestimmungen\"].resample(\"2w\").mean().plot()\n"
   ]
  },
  {
   "cell_type": "markdown",
   "id": "73058776",
   "metadata": {},
   "source": [
    "## Follow-up checks"
   ]
  },
  {
   "cell_type": "code",
   "execution_count": 16,
   "id": "c63b6bb0",
   "metadata": {},
   "outputs": [
    {
     "name": "stdout",
     "output_type": "stream",
     "text": [
      "{'Verstoß mit Maßnahme', 'Mängel überwiegend abgestellt', 'Mängel vollständig abgestellt', 'Mängel teilweise abgestellt', 'Verstoß', 'Mängel nicht abgestellt', 'offen / in Arbeit'}\n",
      "dict_keys(['gut', 'nicht ausreichend', 'ausreichend', 'zufriedenstellend', 'zufriedenstellend\\nzufriedenstellend', 'ausreichend\\nausreichend', 'ausreichend\\nzufriedenstellend', 'zufriedenstellend\\nausreichend', 'nicht ausreichend\\nausreichend', 'nicht ausreichend\\nnicht ausreichend', 'ausreichend\\nnicht ausreichend', 'gut\\nzufriedenstellend', 'sehr gut', 'zufriedenstellend\\ngut', 'zufriedenstellend\\nnicht ausreichend'])\n",
      "defaultdict(<function <lambda> at 0x7f3ea96c81f0>, {'gut': defaultdict(<function <lambda>.<locals>.<lambda> at 0x7f3eaa1d05e0>, {'Mängel teilweise abgestellt': 9, 'Mängel überwiegend abgestellt': 9, 'Mängel vollständig abgestellt': 11}), 'nicht ausreichend': defaultdict(<function <lambda>.<locals>.<lambda> at 0x7f3eaa1d0550>, {'Mängel teilweise abgestellt': 38, 'Mängel vollständig abgestellt': 2, 'Mängel überwiegend abgestellt': 31, 'Mängel nicht abgestellt': 9, 'offen / in Arbeit': 1, 'Verstoß': 1}), 'ausreichend': defaultdict(<function <lambda>.<locals>.<lambda> at 0x7f3eaa1d04c0>, {'Mängel teilweise abgestellt': 37, 'Mängel überwiegend abgestellt': 43, 'Verstoß mit Maßnahme': 2, 'Mängel nicht abgestellt': 5, 'Mängel vollständig abgestellt': 4}), 'zufriedenstellend': defaultdict(<function <lambda>.<locals>.<lambda> at 0x7f3eaa1d0430>, {'Mängel überwiegend abgestellt': 47, 'Mängel vollständig abgestellt': 12, 'Mängel teilweise abgestellt': 18, 'Mängel nicht abgestellt': 3}), 'zufriedenstellend\\nzufriedenstellend': defaultdict(<function <lambda>.<locals>.<lambda> at 0x7f3eaa1d03a0>, {'Mängel teilweise abgestellt': 1, 'Mängel überwiegend abgestellt': 2}), 'ausreichend\\nausreichend': defaultdict(<function <lambda>.<locals>.<lambda> at 0x7f3eaa1d0310>, {'Mängel teilweise abgestellt': 4, 'Mängel überwiegend abgestellt': 4}), 'ausreichend\\nzufriedenstellend': defaultdict(<function <lambda>.<locals>.<lambda> at 0x7f3eaa1d0280>, {'Mängel überwiegend abgestellt': 4, 'Mängel teilweise abgestellt': 1}), 'zufriedenstellend\\nausreichend': defaultdict(<function <lambda>.<locals>.<lambda> at 0x7f3eaa1d01f0>, {'Mängel teilweise abgestellt': 1, 'Mängel vollständig abgestellt': 1}), 'nicht ausreichend\\nausreichend': defaultdict(<function <lambda>.<locals>.<lambda> at 0x7f3eaa1d0160>, {'Mängel nicht abgestellt': 1, 'Mängel teilweise abgestellt': 1, 'Mängel überwiegend abgestellt': 2}), 'nicht ausreichend\\nnicht ausreichend': defaultdict(<function <lambda>.<locals>.<lambda> at 0x7f3eaa1d00d0>, {'Mängel überwiegend abgestellt': 1, 'Mängel teilweise abgestellt': 2}), 'ausreichend\\nnicht ausreichend': defaultdict(<function <lambda>.<locals>.<lambda> at 0x7f3eaa1d0040>, {'Mängel überwiegend abgestellt': 6, 'Mängel teilweise abgestellt': 5}), 'gut\\nzufriedenstellend': defaultdict(<function <lambda>.<locals>.<lambda> at 0x7f3eaa1bbf40>, {'Mängel vollständig abgestellt': 2}), 'sehr gut': defaultdict(<function <lambda>.<locals>.<lambda> at 0x7f3eaa1bbeb0>, {'Mängel überwiegend abgestellt': 1}), 'zufriedenstellend\\ngut': defaultdict(<function <lambda>.<locals>.<lambda> at 0x7f3eaa1bbe20>, {'Mängel überwiegend abgestellt': 1}), 'zufriedenstellend\\nnicht ausreichend': defaultdict(<function <lambda>.<locals>.<lambda> at 0x7f3eaa1bbd90>, {'Mängel überwiegend abgestellt': 1})})\n"
     ]
    }
   ],
   "source": [
    "follow_up_results = set()\n",
    "\n",
    "for inspection in inspections:\n",
    "    for follow_up in inspection[\"followUps\"]:\n",
    "        follow_up_results.add(follow_up[\"result\"])\n",
    "\n",
    "print(follow_up_results)\n",
    "\n",
    "\n",
    "ratings = (\n",
    "    (78, \"sehr gut\"),\n",
    "    (60, \"gut\"),\n",
    "    (39, \"zufriedenstellend\"),\n",
    "    (21, \"ausreichend\"),\n",
    "    (0, \"nicht ausreichend\")\n",
    ")\n",
    "rating_categories = [rating[1] for rating in ratings]\n",
    "\n",
    "results = defaultdict(lambda: defaultdict(lambda: 0))\n",
    "\n",
    "for inspection in inspections:\n",
    "    conclusion = inspection[\"results\"][\"conclusion\"]\n",
    "    for follow_up in inspection[\"followUps\"]:\n",
    "        follow_up_result = follow_up[\"result\"]\n",
    "        results[conclusion][follow_up_result] += 1\n",
    "        break\n",
    "\n",
    "print(dict.keys(results))\n",
    "print(results)\n",
    "\n",
    "\n",
    "#df = pd.DataFrame(results, index=rating_categories)\n",
    "#df.set_index(rating_categories, inplace=True)\n",
    "#df.head()\n",
    "\n"
   ]
  },
  {
   "cell_type": "code",
   "execution_count": 42,
   "id": "7756e373",
   "metadata": {},
   "outputs": [
    {
     "name": "stdout",
     "output_type": "stream",
     "text": [
      "Wed, 30 Dec 2020\n",
      "Sun, 20 Mar 2022\n",
      "Thu, 14 Apr 2022\n"
     ]
    }
   ],
   "source": [
    "# to compare files with e.g. `diff`\n",
    "\n",
    "import time\n",
    "\n",
    "def historize(id):\n",
    "  path = f\"pankow/{id}/{id}.json\"\n",
    "\n",
    "  revlist = (\n",
    "      (commit, (commit.tree / path).data_stream.read())\n",
    "      for commit in repo.iter_commits(paths=[path])\n",
    "  )\n",
    "\n",
    "  i = 0\n",
    "  for commit, filecontents in reversed(list(revlist)):\n",
    "    i += 1\n",
    "    print(time.strftime(\"%a, %d %b %Y\", time.localtime(commit.committed_date)))\n",
    "    \n",
    "    with open(f\"deltas/{i}.json\", \"w\") as file:\n",
    "      file.write(json.dumps(json.loads(filecontents), indent=4))\n",
    "      \n",
    "historize(\"1A5D62F9893A41E78BCF76BF177D42AD\")"
   ]
  }
 ],
 "metadata": {
  "kernelspec": {
   "display_name": "Python 3.10.4 ('.venv': venv)",
   "language": "python",
   "name": "python3"
  },
  "language_info": {
   "codemirror_mode": {
    "name": "ipython",
    "version": 3
   },
   "file_extension": ".py",
   "mimetype": "text/x-python",
   "name": "python",
   "nbconvert_exporter": "python",
   "pygments_lexer": "ipython3",
   "version": "3.10.4"
  },
  "vscode": {
   "interpreter": {
    "hash": "2d388b4daef37ea0b221f48206ab1ab732890f55947b4b8a5510b035a0ce89d2"
   }
  }
 },
 "nbformat": 4,
 "nbformat_minor": 5
}
