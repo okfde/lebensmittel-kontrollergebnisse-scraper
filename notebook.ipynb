{
 "cells": [
  {
   "cell_type": "code",
   "execution_count": 49,
   "id": "37f6dbc5",
   "metadata": {},
   "outputs": [
    {
     "name": "stdout",
     "output_type": "stream",
     "text": [
      "Requirement already satisfied: gitpython in ./.venv/lib/python3.10/site-packages (3.1.27)\n",
      "Requirement already satisfied: pandas in ./.venv/lib/python3.10/site-packages (1.4.2)\n",
      "Requirement already satisfied: matplotlib in ./.venv/lib/python3.10/site-packages (3.5.2)\n",
      "Collecting altair\n",
      "  Downloading altair-4.2.0-py3-none-any.whl (812 kB)\n",
      "\u001b[2K     \u001b[38;2;114;156;31m━━━━━━━━━━━━━━━━━━━━━━━━━━━━━━━━━━━━━━━\u001b[0m \u001b[32m812.8/812.8 KB\u001b[0m \u001b[31m4.8 MB/s\u001b[0m eta \u001b[36m0:00:00\u001b[0m[31m5.4 MB/s\u001b[0m eta \u001b[36m0:00:01\u001b[0m\n",
      "\u001b[?25hRequirement already satisfied: gitdb<5,>=4.0.1 in ./.venv/lib/python3.10/site-packages (from gitpython) (4.0.9)\n",
      "Requirement already satisfied: python-dateutil>=2.8.1 in ./.venv/lib/python3.10/site-packages (from pandas) (2.8.2)\n",
      "Requirement already satisfied: numpy>=1.21.0 in ./.venv/lib/python3.10/site-packages (from pandas) (1.22.4)\n",
      "Requirement already satisfied: pytz>=2020.1 in ./.venv/lib/python3.10/site-packages (from pandas) (2022.1)\n",
      "Requirement already satisfied: pyparsing>=2.2.1 in ./.venv/lib/python3.10/site-packages (from matplotlib) (3.0.9)\n",
      "Requirement already satisfied: packaging>=20.0 in ./.venv/lib/python3.10/site-packages (from matplotlib) (21.3)\n",
      "Requirement already satisfied: pillow>=6.2.0 in ./.venv/lib/python3.10/site-packages (from matplotlib) (9.1.1)\n",
      "Requirement already satisfied: fonttools>=4.22.0 in ./.venv/lib/python3.10/site-packages (from matplotlib) (4.33.3)\n",
      "Requirement already satisfied: cycler>=0.10 in ./.venv/lib/python3.10/site-packages (from matplotlib) (0.11.0)\n",
      "Requirement already satisfied: kiwisolver>=1.0.1 in ./.venv/lib/python3.10/site-packages (from matplotlib) (1.4.2)\n",
      "Collecting jinja2\n",
      "  Downloading Jinja2-3.1.2-py3-none-any.whl (133 kB)\n",
      "\u001b[2K     \u001b[38;2;114;156;31m━━━━━━━━━━━━━━━━━━━━━━━━━━━━━━━━━━━━━━\u001b[0m \u001b[32m133.1/133.1 KB\u001b[0m \u001b[31m24.2 MB/s\u001b[0m eta \u001b[36m0:00:00\u001b[0m\n",
      "\u001b[?25hCollecting toolz\n",
      "  Downloading toolz-0.11.2-py3-none-any.whl (55 kB)\n",
      "\u001b[2K     \u001b[38;2;114;156;31m━━━━━━━━━━━━━━━━━━━━━━━━━━━━━━━━━━━━━━━━\u001b[0m \u001b[32m55.8/55.8 KB\u001b[0m \u001b[31m10.8 MB/s\u001b[0m eta \u001b[36m0:00:00\u001b[0m\n",
      "\u001b[?25hRequirement already satisfied: entrypoints in ./.venv/lib/python3.10/site-packages (from altair) (0.4)\n",
      "Collecting jsonschema>=3.0\n",
      "  Downloading jsonschema-4.5.1-py3-none-any.whl (72 kB)\n",
      "\u001b[2K     \u001b[38;2;114;156;31m━━━━━━━━━━━━━━━━━━━━━━━━━━━━━━━━━━━━━━━━\u001b[0m \u001b[32m72.9/72.9 KB\u001b[0m \u001b[31m16.2 MB/s\u001b[0m eta \u001b[36m0:00:00\u001b[0m\n",
      "\u001b[?25hRequirement already satisfied: smmap<6,>=3.0.1 in ./.venv/lib/python3.10/site-packages (from gitdb<5,>=4.0.1->gitpython) (5.0.0)\n",
      "Collecting attrs>=17.4.0\n",
      "  Using cached attrs-21.4.0-py2.py3-none-any.whl (60 kB)\n",
      "Collecting pyrsistent!=0.17.0,!=0.17.1,!=0.17.2,>=0.14.0\n",
      "  Downloading pyrsistent-0.18.1-cp310-cp310-manylinux_2_17_x86_64.manylinux2014_x86_64.whl (115 kB)\n",
      "\u001b[2K     \u001b[38;2;114;156;31m━━━━━━━━━━━━━━━━━━━━━━━━━━━━━━━━━━━━━━\u001b[0m \u001b[32m115.8/115.8 KB\u001b[0m \u001b[31m16.6 MB/s\u001b[0m eta \u001b[36m0:00:00\u001b[0m\n",
      "\u001b[?25hRequirement already satisfied: six>=1.5 in ./.venv/lib/python3.10/site-packages (from python-dateutil>=2.8.1->pandas) (1.16.0)\n",
      "Collecting MarkupSafe>=2.0\n",
      "  Downloading MarkupSafe-2.1.1-cp310-cp310-manylinux_2_17_x86_64.manylinux2014_x86_64.whl (25 kB)\n",
      "Installing collected packages: toolz, pyrsistent, MarkupSafe, attrs, jsonschema, jinja2, altair\n",
      "Successfully installed MarkupSafe-2.1.1 altair-4.2.0 attrs-21.4.0 jinja2-3.1.2 jsonschema-4.5.1 pyrsistent-0.18.1 toolz-0.11.2\n",
      "\u001b[33mWARNING: You are using pip version 22.0.4; however, version 22.1.1 is available.\n",
      "You should consider upgrading via the '/home/max/Dokumente/Projects/fds-pankow/.venv/bin/python -m pip install --upgrade pip' command.\u001b[0m\u001b[33m\n",
      "\u001b[0m"
     ]
    }
   ],
   "source": [
    "!python -m pip install gitpython pandas matplotlib altair"
   ]
  },
  {
   "cell_type": "code",
   "execution_count": 2,
   "id": "92f3b747",
   "metadata": {},
   "outputs": [],
   "source": [
    "import git\n",
    "from glob import glob\n",
    "import json\n",
    "import pandas as pd\n",
    "from collections import defaultdict"
   ]
  },
  {
   "cell_type": "markdown",
   "id": "d0902412",
   "metadata": {},
   "source": [
    "## Data overview\n",
    "\n",
    "- Around 1,000 businesses were checked since scraping started.\n",
    "- There are ~1,400 data points recorded\n",
    "- 50%"
   ]
  },
  {
   "cell_type": "code",
   "execution_count": 17,
   "id": "2de2c489",
   "metadata": {},
   "outputs": [
    {
     "name": "stdout",
     "output_type": "stream",
     "text": [
      "00b813b82ede00f6b848028ed61e9691268c6243\n",
      "968\n"
     ]
    }
   ],
   "source": [
    "root_dir = \"results\"\n",
    "repo = git.Repo(root_dir)\n",
    "\n",
    "tree = repo.heads.master.commit.tree\n",
    "print(tree)\n",
    "\n",
    "paths = glob(\"pankow/*/*.json\", root_dir=root_dir)\n",
    "print(len(paths))"
   ]
  },
  {
   "cell_type": "code",
   "execution_count": 10,
   "id": "c8ed8769",
   "metadata": {},
   "outputs": [],
   "source": [
    "changes = {}\n",
    "for path in paths:\n",
    "  changes[str(path)] = 0\n",
    "\n",
    "  revlist = (\n",
    "      (commit, (commit.tree / path).data_stream.read())\n",
    "      for commit in repo.iter_commits(paths=path)\n",
    "  )\n",
    "\n",
    "  for commit, filecontents in revlist:\n",
    "      changes[str(path)] += 1"
   ]
  },
  {
   "cell_type": "code",
   "execution_count": 36,
   "id": "3b11c78b",
   "metadata": {},
   "outputs": [
    {
     "name": "stdout",
     "output_type": "stream",
     "text": [
      "count    968.000000\n",
      "mean       1.429752\n",
      "std        0.712732\n",
      "min        1.000000\n",
      "25%        1.000000\n",
      "50%        1.000000\n",
      "75%        2.000000\n",
      "max        5.000000\n",
      "dtype: float64\n",
      "all checks 1384\n"
     ]
    }
   ],
   "source": [
    "df = pd.Series(dict.values(changes))\n",
    "print(df.describe())\n",
    "print(\"all checks\", df.sum())"
   ]
  },
  {
   "cell_type": "code",
   "execution_count": 39,
   "id": "4220513e",
   "metadata": {},
   "outputs": [
    {
     "name": "stdout",
     "output_type": "stream",
     "text": [
      "no of businesses that were checked once 647\n",
      "percentage 0.6683884297520661\n"
     ]
    }
   ],
   "source": [
    "print(\"no of businesses that were checked once\", df[df == 1].count())\n",
    "print(\"percentage\", df[df == 1].count() / df.count()) "
   ]
  },
  {
   "cell_type": "code",
   "execution_count": 42,
   "id": "9019f636",
   "metadata": {},
   "outputs": [
    {
     "name": "stdout",
     "output_type": "stream",
     "text": [
      "{1, 2, 3, 4, 5}\n",
      "these were checked >=5 times\n",
      "pankow/66CED98AA4347EA9E0536884190AB2B4/66CED98AA4347EA9E0536884190AB2B4.json\n",
      "pankow/8AA3AF280F323AD9E0536884190A162D/8AA3AF280F323AD9E0536884190A162D.json\n",
      "pankow/A73BFA02A79A46B1AC76D5F2779F59FC/A73BFA02A79A46B1AC76D5F2779F59FC.json\n",
      "pankow/F0232313B29A42768802B5A2A7FD395C/F0232313B29A42768802B5A2A7FD395C.json\n",
      "pankow/593546B77E5D6398E0536884190A25D5/593546B77E5D6398E0536884190A25D5.json\n",
      "pankow/7CDABEED7B9B49699C477FEF5E0A6B46/7CDABEED7B9B49699C477FEF5E0A6B46.json\n"
     ]
    }
   ],
   "source": [
    "print(set(dict.values(changes)))\n",
    "\n",
    "print(\"these were checked >=5 times:\")\n",
    "for path, n in dict.items(changes):\n",
    "  if n >= 5:\n",
    "    print(path)"
   ]
  },
  {
   "cell_type": "code",
   "execution_count": 21,
   "id": "fc21a0d0",
   "metadata": {},
   "outputs": [],
   "source": [
    "def get_inspections():\n",
    "  for path in paths:\n",
    "    business = {}\n",
    "\n",
    "    revlist = (\n",
    "        (commit, (commit.tree / path).data_stream.read())\n",
    "        for commit in repo.iter_commits(paths=path)\n",
    "    )\n",
    "\n",
    "    for commit, filecontents in revlist:\n",
    "        data = json.loads(filecontents)\n",
    "        business[data[\"results\"][\"date\"]] = data\n",
    "    \n",
    "    for inspection in dict.values(business):\n",
    "        yield inspection\n",
    "\n",
    "inspections = list(get_inspections())"
   ]
  },
  {
   "cell_type": "markdown",
   "id": "c8c44ede",
   "metadata": {},
   "source": [
    "## Categories over time"
   ]
  },
  {
   "cell_type": "code",
   "execution_count": 25,
   "id": "1c46d45c",
   "metadata": {},
   "outputs": [
    {
     "data": {
      "text/plain": [
       "<AxesSubplot:xlabel='date'>"
      ]
     },
     "execution_count": 25,
     "metadata": {},
     "output_type": "execute_result"
    },
    {
     "data": {
      "image/png": "[encoded data removed]",
      "text/plain": [
       "<Figure size 432x288 with 1 Axes>"
      ]
     },
     "metadata": {
      "needs_background": "light"
     },
     "output_type": "display_data"
    }
   ],
   "source": [
    "categories = []\n",
    "\n",
    "for inspection in inspections:\n",
    "    categories.append(\n",
    "        {\n",
    "            \"date\": pd.Timestamp(inspection[\"results\"][\"date\"]),\n",
    "            **{\n",
    "                detail[\"property\"]: int(detail[\"achievedPoints\"]) / int(detail[\"possiblePoints\"])\n",
    "                for detail in inspection[\"details\"]\n",
    "            },\n",
    "        }\n",
    "    )\n",
    "\n",
    "df = pd.DataFrame(categories)\n",
    "df.set_index('date', inplace=True)\n",
    "# df.sort_index().head()\n",
    "df[\"Einhaltung LM-rechtlicher Bestimmungen\"].resample(\"2w\").mean().plot()\n"
   ]
  },
  {
   "cell_type": "markdown",
   "id": "73058776",
   "metadata": {},
   "source": [
    "## Follow-up checks"
   ]
  },
  {
   "cell_type": "code",
   "execution_count": 37,
   "id": "c63b6bb0",
   "metadata": {},
   "outputs": [
    {
     "name": "stdout",
     "output_type": "stream",
     "text": [
      "{'Mängel teilweise abgestellt', 'Verstoß mit Maßnahme', 'Verstoß', 'offen / in Arbeit', 'Mängel vollständig abgestellt', 'Mängel nicht abgestellt', 'Mängel überwiegend abgestellt'}\n",
      "defaultdict(<function <lambda> at 0x7f064dfa5d80>, {'gut': defaultdict(<function <lambda>.<locals>.<lambda> at 0x7f064f7a5e10>, {'Mängel teilweise abgestellt': 8, 'Mängel überwiegend abgestellt': 9, 'Mängel vollständig abgestellt': 10}), 'nicht ausreichend': defaultdict(<function <lambda>.<locals>.<lambda> at 0x7f064f7a5ea0>, {'Mängel teilweise abgestellt': 37, 'Mängel vollständig abgestellt': 2, 'Mängel überwiegend abgestellt': 31, 'Mängel nicht abgestellt': 9, 'offen / in Arbeit': 1, 'Verstoß': 1}), 'ausreichend': defaultdict(<function <lambda>.<locals>.<lambda> at 0x7f064f7a5f30>, {'Mängel teilweise abgestellt': 37, 'Mängel überwiegend abgestellt': 43, 'Verstoß mit Maßnahme': 2, 'Mängel nicht abgestellt': 5, 'Mängel vollständig abgestellt': 4}), 'zufriedenstellend': defaultdict(<function <lambda>.<locals>.<lambda> at 0x7f064f7a5fc0>, {'Mängel überwiegend abgestellt': 46, 'Mängel vollständig abgestellt': 12, 'Mängel teilweise abgestellt': 18, 'Mängel nicht abgestellt': 3}), 'zufriedenstellend\\nzufriedenstellend': defaultdict(<function <lambda>.<locals>.<lambda> at 0x7f064f7a6050>, {'Mängel teilweise abgestellt': 1, 'Mängel überwiegend abgestellt': 2}), 'ausreichend\\nausreichend': defaultdict(<function <lambda>.<locals>.<lambda> at 0x7f064f7a60e0>, {'Mängel teilweise abgestellt': 4, 'Mängel überwiegend abgestellt': 4}), 'zufriedenstellend\\nausreichend': defaultdict(<function <lambda>.<locals>.<lambda> at 0x7f064f7a6170>, {'Mängel teilweise abgestellt': 1, 'Mängel vollständig abgestellt': 1}), 'nicht ausreichend\\nausreichend': defaultdict(<function <lambda>.<locals>.<lambda> at 0x7f064f7a6200>, {'Mängel nicht abgestellt': 1, 'Mängel teilweise abgestellt': 1, 'Mängel überwiegend abgestellt': 2}), 'nicht ausreichend\\nnicht ausreichend': defaultdict(<function <lambda>.<locals>.<lambda> at 0x7f064f7a6290>, {'Mängel überwiegend abgestellt': 1, 'Mängel teilweise abgestellt': 1}), 'ausreichend\\nnicht ausreichend': defaultdict(<function <lambda>.<locals>.<lambda> at 0x7f064f7a6320>, {'Mängel überwiegend abgestellt': 6, 'Mängel teilweise abgestellt': 5}), 'gut\\nzufriedenstellend': defaultdict(<function <lambda>.<locals>.<lambda> at 0x7f064f7a63b0>, {'Mängel vollständig abgestellt': 2}), 'sehr gut': defaultdict(<function <lambda>.<locals>.<lambda> at 0x7f064f7a6440>, {'Mängel überwiegend abgestellt': 1}), 'zufriedenstellend\\ngut': defaultdict(<function <lambda>.<locals>.<lambda> at 0x7f064f7a64d0>, {'Mängel überwiegend abgestellt': 1}), 'ausreichend\\nzufriedenstellend': defaultdict(<function <lambda>.<locals>.<lambda> at 0x7f064ff0bd00>, {'Mängel teilweise abgestellt': 1, 'Mängel überwiegend abgestellt': 2}), 'zufriedenstellend\\nnicht ausreichend': defaultdict(<function <lambda>.<locals>.<lambda> at 0x7f06538697e0>, {'Mängel überwiegend abgestellt': 1})})\n"
     ]
    },
    {
     "ename": "SyntaxError",
     "evalue": "'return' outside function (1967288335.py, line 29)",
     "output_type": "error",
     "traceback": [
      "\u001b[0;36m  Input \u001b[0;32mIn [37]\u001b[0;36m\u001b[0m\n\u001b[0;31m    return\u001b[0m\n\u001b[0m    ^\u001b[0m\n\u001b[0;31mSyntaxError\u001b[0m\u001b[0;31m:\u001b[0m 'return' outside function\n"
     ]
    }
   ],
   "source": [
    "follow_up_results = set()\n",
    "\n",
    "for inspection in inspections:\n",
    "    for follow_up in inspection[\"followUps\"]:\n",
    "        follow_up_results.add(follow_up[\"result\"])\n",
    "\n",
    "print(follow_up_results)\n",
    "\n",
    "\n",
    "ratings = (\n",
    "    (78, \"sehr gut\"),\n",
    "    (60, \"gut\"),\n",
    "    (39, \"zufriedenstellend\"),\n",
    "    (21, \"ausreichend\"),\n",
    "    (0, \"nicht ausreichend\")\n",
    ")\n",
    "rating_categories = [rating[1] for rating in ratings]\n",
    "\n",
    "results = defaultdict(lambda: defaultdict(lambda: 0))\n",
    "\n",
    "for inspection in inspections:\n",
    "    conclusion = inspection[\"results\"][\"conclusion\"]\n",
    "    for follow_up in inspection[\"followUps\"]:\n",
    "        follow_up_result = follow_up[\"result\"]\n",
    "        results[conclusion][follow_up_result] += 1\n",
    "        break\n",
    "\n",
    "print(results)\n",
    "return\n",
    "\n",
    "df = pd.DataFrame(results, index=rating_categories)\n",
    "#df.set_index(rating_categories, inplace=True)\n",
    "df.head()\n",
    "\n"
   ]
  }
 ],
 "metadata": {
  "kernelspec": {
   "display_name": "Python 3.10.4 ('.venv': venv)",
   "language": "python",
   "name": "python3"
  },
  "language_info": {
   "codemirror_mode": {
    "name": "ipython",
    "version": 3
   },
   "file_extension": ".py",
   "mimetype": "text/x-python",
   "name": "python",
   "nbconvert_exporter": "python",
   "pygments_lexer": "ipython3",
   "version": "3.10.4"
  },
  "vscode": {
   "interpreter": {
    "hash": "2d388b4daef37ea0b221f48206ab1ab732890f55947b4b8a5510b035a0ce89d2"
   }
  }
 },
 "nbformat": 4,
 "nbformat_minor": 5
}
